{
 "cells": [
  {
   "cell_type": "markdown",
   "metadata": {},
   "source": [
    "### Analiza danych behawioralnych - eksperyment Bert 1 (09-10.2015)"
   ]
  },
  {
   "cell_type": "code",
   "execution_count": 3,
   "metadata": {
    "collapsed": false
   },
   "outputs": [],
   "source": [
    "library(\"lme4\")\n",
    "library(\"lmerTest\")\n",
    "library(\"phia\")\n",
    "library(\"psyphy\")\n",
    "library(\"ggplot2\")"
   ]
  },
  {
   "cell_type": "markdown",
   "metadata": {},
   "source": [
    " "
   ]
  },
  {
   "cell_type": "markdown",
   "metadata": {},
   "source": [
    " "
   ]
  },
  {
   "cell_type": "code",
   "execution_count": 2,
   "metadata": {
    "collapsed": true
   },
   "outputs": [],
   "source": [
    "options(jupyter.plot_mimetypes = \"image/png\")"
   ]
  },
  {
   "cell_type": "markdown",
   "metadata": {},
   "source": [
    "Wczytywanie danych i porządkowanie nazw kolumn"
   ]
  },
  {
   "cell_type": "code",
   "execution_count": 3,
   "metadata": {
    "collapsed": true
   },
   "outputs": [],
   "source": [
    "dane = read.csv(\"anova.csv\", sep=',')"
   ]
  },
  {
   "cell_type": "code",
   "execution_count": 4,
   "metadata": {
    "collapsed": true
   },
   "outputs": [],
   "source": [
    "names(dane)=tolower(names(dane))\n",
    "names(dane)[names(dane) == 'accuracy_rt'] = 'acc_rt'\n",
    "names(dane)[names(dane) == 'accuracy'] = 'acc'\n",
    "names(dane)[names(dane) == 'duration_type'] = 'dur'"
   ]
  },
  {
   "cell_type": "code",
   "execution_count": 5,
   "metadata": {
    "collapsed": false
   },
   "outputs": [
    {
     "data": {
      "text/html": [
       "<table>\n",
       "<thead><tr><th></th><th scope=col>x</th><th scope=col>id</th><th scope=col>task</th><th scope=col>block</th><th scope=col>trial</th><th scope=col>fiksacja3</th><th scope=col>fiksacja3_dur</th><th scope=col>fiksacja</th><th scope=col>fiksacja_dur</th><th scope=col>stimulus_type</th><th scope=col>ellip.h</th><th scope=col>fiksacja2_dur</th><th scope=col>beh_response</th><th scope=col>response_dur</th><th scope=col>button</th><th scope=col>acc</th><th scope=col>acc_rt</th><th scope=col>pas_response</th><th scope=col>pas_response_dur</th><th scope=col>pas</th><th scope=col>pas_rt</th></tr></thead>\n",
       "<tbody>\n",
       "\t<tr><th scope=row>1</th><td>0</td><td>dc1_01</td><td>low</td><td>1</td><td>2</td><td>12.0558</td><td>3.0095</td><td>15.0653</td><td>1.7399</td><td>sn3</td><td><e2><8b><af></td><td>2.0102</td><td>19.1211</td><td>1.5165</td><td>54</td><td>0</td><td>262.4</td><td>20.6494</td><td>1.4459</td><td>4</td><td>499.2</td></tr>\n",
       "\t<tr><th scope=row>2</th><td>1</td><td>dc1_01</td><td>low</td><td>1</td><td>4</td><td>31.1591</td><td>2.0103</td><td>33.1694</td><td>1.7399</td><td>mn7</td><td><e2><8b><af></td><td>2.0103</td><td>37.1899</td><td>1.5165</td><td>54</td><td>0</td><td>510</td><td>38.7182</td><td>1.4812</td><td>4</td><td>397.6</td></tr>\n",
       "\t<tr><th scope=row>3</th><td>2</td><td>dc1_01</td><td>low</td><td>1</td><td>5</td><td>40.2112</td><td>2.0102</td><td>42.2214</td><td>1.7399</td><td>sc1</td><td><e2><8b><af></td><td>2.0103</td><td>46.2772</td><td>1.5165</td><td>44</td><td>1</td><td>457.1</td><td>47.8055</td><td>1.446</td><td>4</td><td>479.4</td></tr>\n",
       "\t<tr><th scope=row>4</th><td>3</td><td>dc1_01</td><td>low</td><td>1</td><td>6</td><td>49.2632</td><td>1.011</td><td>50.2742</td><td>1.7399</td><td>mn7</td><td><e2><8b><af></td><td>6.0073</td><td>58.327</td><td>1.5165</td><td>54</td><td>0</td><td>1453.6</td><td>59.8553</td><td>1.446</td><td>4</td><td>1358.9</td></tr>\n",
       "\t<tr><th scope=row>5</th><td>4</td><td>dc1_01</td><td>low</td><td>1</td><td>7</td><td>61.313</td><td>1.011</td><td>62.324</td><td>1.7399</td><td>mc1</td><td><e2><8b><af></td><td>2.0102</td><td>66.4151</td><td>1.5165</td><td>54</td><td>1</td><td>1153.3</td><td>67.9433</td><td>1.4108</td><td>4</td><td>195.3</td></tr>\n",
       "\t<tr><th scope=row>6</th><td>5</td><td>dc1_01</td><td>low</td><td>1</td><td>8</td><td>69.3658</td><td>2.0103</td><td>71.3761</td><td>1.7399</td><td>sc9</td><td><e2><8b><af></td><td>4.0087</td><td>77.3951</td><td>1.5165</td><td>44</td><td>1</td><td>279.4</td><td>78.9234</td><td>1.4812</td><td>1</td><td>255.6</td></tr>\n",
       "</tbody>\n",
       "</table>\n"
      ],
      "text/latex": [
       "\\begin{tabular}{r|llllllllllllllllllllllllll}\n",
       "  & x & id & task & block & trial & fiksacja3 & fiksacja3_dur & fiksacja & fiksacja_dur & stimulus_type & ellip.h & fiksacja2_dur & beh_response & response_dur & button & acc & acc_rt & pas_response & pas_response_dur & pas & pas_rt\\\\\n",
       "\\hline\n",
       "\t1 & 0 & dc1_01 & low & 1 & 2 & 12.0558 & 3.0095 & 15.0653 & 1.7399 & sn3 & <e2><8b><af> & 2.0102 & 19.1211 & 1.5165 & 54 & 0 & 262.4 & 20.6494 & 1.4459 & 4 & 499.2\\\\\n",
       "\t2 & 1 & dc1_01 & low & 1 & 4 & 31.1591 & 2.0103 & 33.1694 & 1.7399 & mn7 & <e2><8b><af> & 2.0103 & 37.1899 & 1.5165 & 54 & 0 & 510 & 38.7182 & 1.4812 & 4 & 397.6\\\\\n",
       "\t3 & 2 & dc1_01 & low & 1 & 5 & 40.2112 & 2.0102 & 42.2214 & 1.7399 & sc1 & <e2><8b><af> & 2.0103 & 46.2772 & 1.5165 & 44 & 1 & 457.1 & 47.8055 & 1.446 & 4 & 479.4\\\\\n",
       "\t4 & 3 & dc1_01 & low & 1 & 6 & 49.2632 & 1.011 & 50.2742 & 1.7399 & mn7 & <e2><8b><af> & 6.0073 & 58.327 & 1.5165 & 54 & 0 & 1453.6 & 59.8553 & 1.446 & 4 & 1358.9\\\\\n",
       "\t5 & 4 & dc1_01 & low & 1 & 7 & 61.313 & 1.011 & 62.324 & 1.7399 & mc1 & <e2><8b><af> & 2.0102 & 66.4151 & 1.5165 & 54 & 1 & 1153.3 & 67.9433 & 1.4108 & 4 & 195.3\\\\\n",
       "\t6 & 5 & dc1_01 & low & 1 & 8 & 69.3658 & 2.0103 & 71.3761 & 1.7399 & sc9 & <e2><8b><af> & 4.0087 & 77.3951 & 1.5165 & 44 & 1 & 279.4 & 78.9234 & 1.4812 & 1 & 255.6\\\\\n",
       "\\end{tabular}\n"
      ],
      "text/plain": [
       "  x     id task block trial fiksacja3 fiksacja3_dur fiksacja fiksacja_dur\n",
       "1 0 dc1_01  low     1     2   12.0558        3.0095  15.0653       1.7399\n",
       "2 1 dc1_01  low     1     4   31.1591        2.0103  33.1694       1.7399\n",
       "3 2 dc1_01  low     1     5   40.2112        2.0102  42.2214       1.7399\n",
       "4 3 dc1_01  low     1     6   49.2632        1.0110  50.2742       1.7399\n",
       "5 4 dc1_01  low     1     7   61.3130        1.0110  62.3240       1.7399\n",
       "6 5 dc1_01  low     1     8   69.3658        2.0103  71.3761       1.7399\n",
       "  stimulus_type stimulus  dur duration   maska maska_dur fiksacja2\n",
       "1           sn3  16.8052 dur2   0.0470 16.8522    0.2469   17.0991\n",
       "2           mn7  34.9093 dur1   0.0117 34.9210    0.2469   35.1679\n",
       "3           sc1  43.9613 dur2   0.0470 44.0083    0.2469   44.2552\n",
       "4           mn7  52.0141 dur2   0.0470 52.0611    0.2469   52.3080\n",
       "5           mc1  64.0639 dur3   0.0823 64.1462    0.2469   64.3931\n",
       "6           sc9  73.1160 dur1   0.0117 73.1277    0.2469   73.3746\n",
       "  fiksacja2_dur beh_response response_dur button acc acc_rt pas_response\n",
       "1        2.0102      19.1211       1.5165     54   0  262.4      20.6494\n",
       "2        2.0103      37.1899       1.5165     54   0  510.0      38.7182\n",
       "3        2.0103      46.2772       1.5165     44   1  457.1      47.8055\n",
       "4        6.0073      58.3270       1.5165     54   0 1453.6      59.8553\n",
       "5        2.0102      66.4151       1.5165     54   1 1153.3      67.9433\n",
       "6        4.0087      77.3951       1.5165     44   1  279.4      78.9234\n",
       "  pas_response_dur pas pas_rt\n",
       "1           1.4459   4  499.2\n",
       "2           1.4812   4  397.6\n",
       "3           1.4460   4  479.4\n",
       "4           1.4460   4 1358.9\n",
       "5           1.4108   4  195.3\n",
       "6           1.4812   1  255.6"
      ]
     },
     "execution_count": 5,
     "metadata": {},
     "output_type": "execute_result"
    }
   ],
   "source": [
    "head(dane)"
   ]
  },
  {
   "cell_type": "markdown",
   "metadata": {},
   "source": [
    " "
   ]
  },
  {
   "cell_type": "markdown",
   "metadata": {},
   "source": [
    " "
   ]
  },
  {
   "cell_type": "markdown",
   "metadata": {},
   "source": [
    "#### Kontrola przypadków odstających"
   ]
  },
  {
   "cell_type": "markdown",
   "metadata": {},
   "source": [
    "Sprawdzenie średnich poprawności"
   ]
  },
  {
   "cell_type": "code",
   "execution_count": 6,
   "metadata": {
    "collapsed": false
   },
   "outputs": [
    {
     "data": {
      "image/png": "[encoded data removed]"
     },
     "metadata": {},
     "output_type": "display_data"
    }
   ],
   "source": [
    "plot(sort((zbior=(aggregate(acc ~ id, dane, mean)))$acc))"
   ]
  },
  {
   "cell_type": "markdown",
   "metadata": {},
   "source": [
    "Sprawdzenie odchylenia standardowego ocen na skali PAS"
   ]
  },
  {
   "cell_type": "code",
   "execution_count": 7,
   "metadata": {
    "collapsed": false
   },
   "outputs": [
    {
     "data": {
      "image/png": "[encoded data removed]"
     },
     "metadata": {},
     "output_type": "display_data"
    }
   ],
   "source": [
    "plot(sort((zbior2=(aggregate(pas ~ id, dane, sd)))$pas))"
   ]
  },
  {
   "cell_type": "code",
   "execution_count": 8,
   "metadata": {
    "collapsed": true
   },
   "outputs": [],
   "source": [
    "zbior=merge(zbior, zbior2,by='id')"
   ]
  },
  {
   "cell_type": "markdown",
   "metadata": {},
   "source": [
    "Sprawdzenie wartości d'"
   ]
  },
  {
   "cell_type": "code",
   "execution_count": 9,
   "metadata": {
    "collapsed": false,
    "scrolled": false
   },
   "outputs": [
    {
     "data": {
      "image/png": "[encoded data removed]"
     },
     "metadata": {},
     "output_type": "display_data"
    }
   ],
   "source": [
    "plot(sort(unlist((zbior$dprim=lapply(zbior$acc, function(x) dprime.mAFC(x,2))))),ylab=\"d' score\")"
   ]
  },
  {
   "cell_type": "code",
   "execution_count": 44,
   "metadata": {
    "collapsed": true
   },
   "outputs": [],
   "source": [
    "# po tabeli 'zbior' można odnaleźć osoby o odstających wynikach"
   ]
  },
  {
   "cell_type": "code",
   "execution_count": 10,
   "metadata": {
    "collapsed": false
   },
   "outputs": [
    {
     "data": {
      "text/html": [
       "<table>\n",
       "<thead><tr><th></th><th scope=col>id</th><th scope=col>acc</th><th scope=col>pas</th><th scope=col>dprim</th></tr></thead>\n",
       "<tbody>\n",
       "\t<tr><th scope=row>1</th><td>dc1_01</td><td>0.6554622</td><td>1.182613</td><td>0.5658411</td></tr>\n",
       "\t<tr><th scope=row>2</th><td>dc1_03</td><td>0.6996047</td><td>1.108715</td><td>0.7400242</td></tr>\n",
       "\t<tr><th scope=row>3</th><td>dc1_04</td><td>0.7068273</td><td>1.073069</td><td>0.7695138</td></tr>\n",
       "\t<tr><th scope=row>4</th><td>dc1_05</td><td>0.7509881</td><td>1.099638</td><td>0.9582748</td></tr>\n",
       "\t<tr><th scope=row>5</th><td>dc1_06</td><td>0.7519685</td><td>1.001143</td><td>0.9626515</td></tr>\n",
       "\t<tr><th scope=row>6</th><td>dc1_07</td><td>0.75</td><td>1.104674</td><td>0.9538726</td></tr>\n",
       "\t<tr><th scope=row>7</th><td>dc1_09</td><td>0.6914062</td><td>1.273312</td><td>0.7068858</td></tr>\n",
       "\t<tr><th scope=row>8</th><td>dc1_10</td><td>0.7755906</td><td>1.151471</td><td>1.071095</td></tr>\n",
       "\t<tr><th scope=row>9</th><td>dc1_11</td><td>0.7929515</td><td>1.210489</td><td>1.154995</td></tr>\n",
       "\t<tr><th scope=row>10</th><td>dc1_12</td><td>0.7114625</td><td>1.337315</td><td>0.7886534</td></tr>\n",
       "\t<tr><th scope=row>11</th><td>dc1_14</td><td>0.736</td><td>1.276925</td><td>0.8924532</td></tr>\n",
       "\t<tr><th scope=row>12</th><td>dc1_16</td><td>0.6719368</td><td>1.065547</td><td>0.6297034</td></tr>\n",
       "\t<tr><th scope=row>13</th><td>dc1_17</td><td>0.647541</td><td>0.908556</td><td>0.5355486</td></tr>\n",
       "\t<tr><th scope=row>14</th><td>dc1_18</td><td>0.6996047</td><td>1.064855</td><td>0.7400242</td></tr>\n",
       "\t<tr><th scope=row>15</th><td>dc1_19</td><td>0.7041667</td><td>1.112093</td><td>0.7585868</td></tr>\n",
       "\t<tr><th scope=row>16</th><td>dc1_20</td><td>0.7689243</td><td>1.118707</td><td>1.039855</td></tr>\n",
       "\t<tr><th scope=row>17</th><td>dc1_21</td><td>0.6220472</td><td>1.103897</td><td>0.4396216</td></tr>\n",
       "\t<tr><th scope=row>18</th><td>dc1_22</td><td>0.8102767</td><td>1.274635</td><td>1.242971</td></tr>\n",
       "\t<tr><th scope=row>19</th><td>dc1_23</td><td>0.704918</td><td>1.024715</td><td>0.7616676</td></tr>\n",
       "\t<tr><th scope=row>20</th><td>dc1_24</td><td>0.5691057</td><td>1.119061</td><td>0.2462091</td></tr>\n",
       "\t<tr><th scope=row>21</th><td>dc1_25</td><td>0.718254</td><td>1.057417</td><td>0.816938</td></tr>\n",
       "\t<tr><th scope=row>22</th><td>dc1_26</td><td>0.7714286</td><td>1.31358</td><td>1.051578</td></tr>\n",
       "\t<tr><th scope=row>23</th><td>dc1_27</td><td>0.745098</td><td>1.173836</td><td>0.9321691</td></tr>\n",
       "\t<tr><th scope=row>24</th><td>dc1_28</td><td>0.7193676</td><td>0.9061106</td><td>0.8216069</td></tr>\n",
       "\t<tr><th scope=row>25</th><td>dc1_29</td><td>0.743083</td><td>1.191246</td><td>0.923311</td></tr>\n",
       "\t<tr><th scope=row>26</th><td>dc1_30</td><td>0.7061224</td><td>1.096697</td><td>0.7666142</td></tr>\n",
       "</tbody>\n",
       "</table>\n"
      ],
      "text/latex": [
       "\\begin{tabular}{r|llll}\n",
       "  & id & acc & pas & dprim\\\\\n",
       "\\hline\n",
       "\t1 & dc1_01 & 0.6554622 & 1.182613 & 0.5658411\\\\\n",
       "\t2 & dc1_03 & 0.6996047 & 1.108715 & 0.7400242\\\\\n",
       "\t3 & dc1_04 & 0.7068273 & 1.073069 & 0.7695138\\\\\n",
       "\t4 & dc1_05 & 0.7509881 & 1.099638 & 0.9582748\\\\\n",
       "\t5 & dc1_06 & 0.7519685 & 1.001143 & 0.9626515\\\\\n",
       "\t6 & dc1_07 & 0.75 & 1.104674 & 0.9538726\\\\\n",
       "\t7 & dc1_09 & 0.6914062 & 1.273312 & 0.7068858\\\\\n",
       "\t8 & dc1_10 & 0.7755906 & 1.151471 & 1.071095\\\\\n",
       "\t9 & dc1_11 & 0.7929515 & 1.210489 & 1.154995\\\\\n",
       "\t10 & dc1_12 & 0.7114625 & 1.337315 & 0.7886534\\\\\n",
       "\t11 & dc1_14 & 0.736 & 1.276925 & 0.8924532\\\\\n",
       "\t12 & dc1_16 & 0.6719368 & 1.065547 & 0.6297034\\\\\n",
       "\t13 & dc1_17 & 0.647541 & 0.908556 & 0.5355486\\\\\n",
       "\t14 & dc1_18 & 0.6996047 & 1.064855 & 0.7400242\\\\\n",
       "\t15 & dc1_19 & 0.7041667 & 1.112093 & 0.7585868\\\\\n",
       "\t16 & dc1_20 & 0.7689243 & 1.118707 & 1.039855\\\\\n",
       "\t17 & dc1_21 & 0.6220472 & 1.103897 & 0.4396216\\\\\n",
       "\t18 & dc1_22 & 0.8102767 & 1.274635 & 1.242971\\\\\n",
       "\t19 & dc1_23 & 0.704918 & 1.024715 & 0.7616676\\\\\n",
       "\t20 & dc1_24 & 0.5691057 & 1.119061 & 0.2462091\\\\\n",
       "\t21 & dc1_25 & 0.718254 & 1.057417 & 0.816938\\\\\n",
       "\t22 & dc1_26 & 0.7714286 & 1.31358 & 1.051578\\\\\n",
       "\t23 & dc1_27 & 0.745098 & 1.173836 & 0.9321691\\\\\n",
       "\t24 & dc1_28 & 0.7193676 & 0.9061106 & 0.8216069\\\\\n",
       "\t25 & dc1_29 & 0.743083 & 1.191246 & 0.923311\\\\\n",
       "\t26 & dc1_30 & 0.7061224 & 1.096697 & 0.7666142\\\\\n",
       "\\end{tabular}\n"
      ],
      "text/plain": [
       "       id       acc       pas     dprim\n",
       "1  dc1_01 0.6554622 1.1826135 0.5658411\n",
       "2  dc1_03 0.6996047 1.1087150 0.7400242\n",
       "3  dc1_04 0.7068273 1.0730689 0.7695138\n",
       "4  dc1_05 0.7509881 1.0996380 0.9582748\n",
       "5  dc1_06 0.7519685 1.0011431 0.9626515\n",
       "6  dc1_07 0.7500000 1.1046739 0.9538726\n",
       "7  dc1_09 0.6914062 1.2733120 0.7068858\n",
       "8  dc1_10 0.7755906 1.1514707  1.071095\n",
       "9  dc1_11 0.7929515 1.2104892  1.154995\n",
       "10 dc1_12 0.7114625 1.3373152 0.7886534\n",
       "11 dc1_14 0.7360000 1.2769253 0.8924532\n",
       "12 dc1_16 0.6719368 1.0655474 0.6297034\n",
       "13 dc1_17 0.6475410 0.9085560 0.5355486\n",
       "14 dc1_18 0.6996047 1.0648553 0.7400242\n",
       "15 dc1_19 0.7041667 1.1120928 0.7585868\n",
       "16 dc1_20 0.7689243 1.1187073  1.039855\n",
       "17 dc1_21 0.6220472 1.1038974 0.4396216\n",
       "18 dc1_22 0.8102767 1.2746349  1.242971\n",
       "19 dc1_23 0.7049180 1.0247148 0.7616676\n",
       "20 dc1_24 0.5691057 1.1190612 0.2462091\n",
       "21 dc1_25 0.7182540 1.0574170  0.816938\n",
       "22 dc1_26 0.7714286 1.3135804  1.051578\n",
       "23 dc1_27 0.7450980 1.1738360 0.9321691\n",
       "24 dc1_28 0.7193676 0.9061106 0.8216069\n",
       "25 dc1_29 0.7430830 1.1912458  0.923311\n",
       "26 dc1_30 0.7061224 1.0966966 0.7666142"
      ]
     },
     "execution_count": 10,
     "metadata": {},
     "output_type": "execute_result"
    }
   ],
   "source": [
    "zbior"
   ]
  },
  {
   "cell_type": "markdown",
   "metadata": {},
   "source": [
    " "
   ]
  },
  {
   "cell_type": "markdown",
   "metadata": {},
   "source": [
    " "
   ]
  },
  {
   "cell_type": "markdown",
   "metadata": {},
   "source": [
    " "
   ]
  },
  {
   "cell_type": "markdown",
   "metadata": {},
   "source": [
    "#### Model mieszany dla analizy poprawności względem czasu prezentacji"
   ]
  },
  {
   "cell_type": "code",
   "execution_count": 12,
   "metadata": {
    "collapsed": false
   },
   "outputs": [
    {
     "data": {
      "text/html": [
       "<table>\n",
       "<thead><tr><th></th><th scope=col>Df</th><th scope=col>AIC</th><th scope=col>BIC</th><th scope=col>logLik</th><th scope=col>deviance</th><th scope=col>Chisq</th><th scope=col>Chi Df</th><th scope=col>Pr(>Chisq)</th></tr></thead>\n",
       "<tbody>\n",
       "\t<tr><th scope=row>m12</th><td>9</td><td>6203.177</td><td>6264.081</td><td>-3092.588</td><td>6185.177</td><td>NA</td><td>NA</td><td>NA</td></tr>\n",
       "\t<tr><th scope=row>m11</th><td>17</td><td>6210.824</td><td>6325.866</td><td>-3088.412</td><td>6176.824</td><td>8.352371</td><td>8</td><td>0.399828</td></tr>\n",
       "</tbody>\n",
       "</table>\n"
      ],
      "text/latex": [
       "\\begin{tabular}{r|llllllll}\n",
       "  & Df & AIC & BIC & logLik & deviance & Chisq & Chi Df & Pr(>Chisq)\\\\\n",
       "\\hline\n",
       "\tm12 & 9 & 6203.177 & 6264.081 & -3092.588 & 6185.177 & NA & NA & NA\\\\\n",
       "\tm11 & 17 & 6210.824 & 6325.866 & -3088.412 & 6176.824 & 8.352371 & 8 & 0.399828\\\\\n",
       "\\end{tabular}\n"
      ],
      "text/plain": [
       "Data: dane\n",
       "Models:\n",
       "m12: acc ~ -1 + dur/(pas) + (1 | id)\n",
       "m11: acc ~ -1 + dur/(pas * task) + (1 | id)\n",
       "    Df    AIC    BIC  logLik deviance  Chisq Chi Df Pr(>Chisq)\n",
       "m12  9 6203.2 6264.1 -3092.6   6185.2                         \n",
       "m11 17 6210.8 6325.9 -3088.4   6176.8 8.3524      8     0.3998"
      ]
     },
     "execution_count": 12,
     "metadata": {},
     "output_type": "execute_result"
    }
   ],
   "source": [
    "m11 <- glmer(acc ~ -1 + dur / (pas * task) + (1|id), dane, family = binomial,\n",
    "                           control = glmerControl(optimizer=\"bobyqa\", optCtrl = list(maxfun = 1000000)))\n",
    "m12 <- glmer(acc ~ -1 + dur / (pas) + (1|id), dane, family = binomial,\n",
    "                           control = glmerControl(optimizer=\"bobyqa\", optCtrl = list(maxfun = 1000000)))\n",
    "anova(m11,m12)"
   ]
  },
  {
   "cell_type": "code",
   "execution_count": 11,
   "metadata": {
    "collapsed": false
   },
   "outputs": [
    {
     "name": "stdout",
     "output_type": "stream",
     "text": [
      "Generalized linear mixed model fit by maximum likelihood (Laplace\n",
      "  Approximation) [glmerMod]\n",
      " Family: binomial  ( logit )\n",
      "Formula: acc ~ -1 + dur/(pas * task) + (1 | id)\n",
      "   Data: dane\n",
      "Control: glmerControl(optimizer = \"bobyqa\", optCtrl = list(maxfun = 1e+06))\n",
      "\n",
      "     AIC      BIC   logLik deviance df.resid \n",
      "  6210.8   6325.9  -3088.4   6176.8     6403 \n",
      "\n",
      "Scaled residuals: \n",
      "    Min      1Q  Median      3Q     Max \n",
      "-9.2795 -0.9343  0.2059  0.7325  1.4878 \n",
      "\n",
      "Random effects:\n",
      " Groups Name        Variance Std.Dev.\n",
      " id     (Intercept) 0.05804  0.2409  \n",
      "Number of obs: 6420, groups:  id, 26\n",
      "\n",
      "Fixed effects:\n",
      "                    Estimate Std. Error z value Pr(>|z|)    \n",
      "durdur1             -0.12357    0.19562  -0.632 0.527601    \n",
      "durdur2             -0.30714    0.18468  -1.663 0.096289 .  \n",
      "durdur3             -1.48181    0.23225  -6.380 1.77e-10 ***\n",
      "durdur4             -1.34523    0.36078  -3.729 0.000193 ***\n",
      "durdur1:pas          0.21285    0.13561   1.570 0.116519    \n",
      "durdur2:pas          0.48562    0.10290   4.719 2.37e-06 ***\n",
      "durdur3:pas          1.21474    0.10774  11.275  < 2e-16 ***\n",
      "durdur4:pas          1.38657    0.14578   9.511  < 2e-16 ***\n",
      "durdur1:tasklow      0.04159    0.25762   0.161 0.871735    \n",
      "durdur2:tasklow     -0.23869    0.25307  -0.943 0.345580    \n",
      "durdur3:tasklow      0.40631    0.34561   1.176 0.239736    \n",
      "durdur4:tasklow     -0.44744    0.51726  -0.865 0.387031    \n",
      "durdur1:pas:tasklow -0.13793    0.17806  -0.775 0.438553    \n",
      "durdur2:pas:tasklow  0.06858    0.13845   0.495 0.620367    \n",
      "durdur3:pas:tasklow -0.07853    0.15789  -0.497 0.618922    \n",
      "durdur4:pas:tasklow  0.16892    0.21068   0.802 0.422687    \n",
      "---\n",
      "Signif. codes:  0 '***' 0.001 '**' 0.01 '*' 0.05 '.' 0.1 ' ' 1\n"
     ]
    }
   ],
   "source": [
    "dane$pas<-as.numeric(dane$pas)\n",
    "print(summary((m1 <- glmer(acc ~ -1 + dur / (pas * task) + (1|id), dane, family = binomial,\n",
    "                           control = glmerControl(optimizer=\"bobyqa\", optCtrl = list(maxfun = 1000000))))), corr = F)"
   ]
  },
  {
   "cell_type": "code",
   "execution_count": 110,
   "metadata": {
    "collapsed": false
   },
   "outputs": [
    {
     "data": {
      "image/png": "[encoded data removed]"
     },
     "metadata": {},
     "output_type": "display_data"
    }
   ],
   "source": [
    "plot(interactionMeans(m1))"
   ]
  },
  {
   "cell_type": "markdown",
   "metadata": {},
   "source": [
    "#### Model mieszany dla analizy poprawności względem oceny na skali PAS"
   ]
  },
  {
   "cell_type": "code",
   "execution_count": 82,
   "metadata": {
    "collapsed": false
   },
   "outputs": [
    {
     "name": "stdout",
     "output_type": "stream",
     "text": [
      "Generalized linear mixed model fit by maximum likelihood (Laplace\n",
      "  Approximation) [glmerMod]\n",
      " Family: binomial  ( logit )\n",
      "Formula: acc ~ -1 + pas/task + (1 | id)\n",
      "   Data: dane\n",
      "Control: glmerControl(optimizer = \"bobyqa\", optCtrl = list(maxfun = 1e+06))\n",
      "\n",
      "     AIC      BIC   logLik deviance df.resid \n",
      "  6327.4   6388.3  -3154.7   6309.4     6411 \n",
      "\n",
      "Scaled residuals: \n",
      "    Min      1Q  Median      3Q     Max \n",
      "-9.7052 -0.9551  0.2344  0.7630  1.3231 \n",
      "\n",
      "Random effects:\n",
      " Groups Name        Variance Std.Dev.\n",
      " id     (Intercept) 0.08189  0.2862  \n",
      "Number of obs: 6420, groups:  id, 26\n",
      "\n",
      "Fixed effects:\n",
      "             Estimate Std. Error z value Pr(>|z|)    \n",
      "pas1          0.14035    0.08176   1.717  0.08607 .  \n",
      "pas2          0.47896    0.09520   5.031 4.88e-07 ***\n",
      "pas3          2.12373    0.15613  13.603  < 2e-16 ***\n",
      "pas4          4.20555    0.30921  13.601  < 2e-16 ***\n",
      "pas1:tasklow -0.18480    0.08627  -2.142  0.03218 *  \n",
      "pas2:tasklow  0.16452    0.10493   1.568  0.11691    \n",
      "pas3:tasklow -0.02187    0.19547  -0.112  0.91092    \n",
      "pas4:tasklow -0.96131    0.35479  -2.710  0.00674 ** \n",
      "---\n",
      "Signif. codes:  0 '***' 0.001 '**' 0.01 '*' 0.05 '.' 0.1 ' ' 1\n"
     ]
    }
   ],
   "source": [
    "dane$pas<-as.factor(dane$pas)\n",
    "print(summary((m2 <- glmer(acc ~ -1 + pas / task + (1|id), dane, family = binomial,\n",
    "                           control = glmerControl(optimizer=\"bobyqa\", optCtrl = list(maxfun = 1000000))))), corr = F)"
   ]
  },
  {
   "cell_type": "code",
   "execution_count": 111,
   "metadata": {
    "collapsed": false
   },
   "outputs": [
    {
     "data": {
      "image/png": "[encoded data removed]"
     },
     "metadata": {},
     "output_type": "display_data"
    }
   ],
   "source": [
    "plot(interactionMeans(m2))"
   ]
  },
  {
   "cell_type": "markdown",
   "metadata": {},
   "source": [
    "#### Model mieszany dla analizy oceny na skali PAS względem czasu prezentacji"
   ]
  },
  {
   "cell_type": "code",
   "execution_count": 88,
   "metadata": {
    "collapsed": false
   },
   "outputs": [],
   "source": [
    "dane1=dane[dane$acc==1,]\n",
    "dane1$pas<-as.numeric(dane1$pas)"
   ]
  },
  {
   "cell_type": "code",
   "execution_count": 114,
   "metadata": {
    "collapsed": false
   },
   "outputs": [
    {
     "name": "stdout",
     "output_type": "stream",
     "text": [
      "Linear mixed model fit by REML t-tests use Satterthwaite approximations to\n",
      "  degrees of freedom [lmerMod]\n",
      "Formula: pas ~ -1 + dur/task + (1 | id)\n",
      "   Data: dane1\n",
      "\n",
      "REML criterion at convergence: 11109.9\n",
      "\n",
      "Scaled residuals: \n",
      "    Min      1Q  Median      3Q     Max \n",
      "-3.7559 -0.6135  0.0933  0.7363  3.3641 \n",
      "\n",
      "Random effects:\n",
      " Groups   Name        Variance Std.Dev.\n",
      " id       (Intercept) 0.07655  0.2767  \n",
      " Residual             0.64098  0.8006  \n",
      "Number of obs: 4597, groups:  id, 26\n",
      "\n",
      "Fixed effects:\n",
      "                 Estimate Std. Error        df t value Pr(>|t|)    \n",
      "durdur1         1.321e+00  6.698e-02 5.300e+01  19.721  < 2e-16 ***\n",
      "durdur2         1.771e+00  6.530e-02 4.800e+01  27.125  < 2e-16 ***\n",
      "durdur3         2.828e+00  6.319e-02 4.200e+01  44.755  < 2e-16 ***\n",
      "durdur4         3.458e+00  6.179e-02 3.800e+01  55.968  < 2e-16 ***\n",
      "durdur1:tasklow 4.060e-02  5.584e-02 4.566e+03   0.727    0.467    \n",
      "durdur2:tasklow 2.217e-01  5.107e-02 4.565e+03   4.342 1.44e-05 ***\n",
      "durdur3:tasklow 6.017e-02  4.465e-02 4.566e+03   1.347    0.178    \n",
      "durdur4:tasklow 4.779e-02  4.150e-02 4.565e+03   1.152    0.250    \n",
      "---\n",
      "Signif. codes:  0 '***' 0.001 '**' 0.01 '*' 0.05 '.' 0.1 ' ' 1\n"
     ]
    }
   ],
   "source": [
    "print(summary((pm1<-lmer(pas ~ -1 + dur / task + (1|id), dane1))), corr=F)"
   ]
  },
  {
   "cell_type": "code",
   "execution_count": 112,
   "metadata": {
    "collapsed": false
   },
   "outputs": [
    {
     "data": {
      "image/png": "[encoded data removed]"
     },
     "metadata": {},
     "output_type": "display_data"
    }
   ],
   "source": [
    "plot(interactionMeans(pm1))"
   ]
  }
 ],
 "metadata": {
  "kernelspec": {
   "display_name": "R",
   "language": "R",
   "name": "ir"
  },
  "language_info": {
   "codemirror_mode": "r",
   "file_extension": ".r",
   "mimetype": "text/x-r-source",
   "name": "R",
   "pygments_lexer": "r",
   "version": "3.2.3"
  }
 },
 "nbformat": 4,
 "nbformat_minor": 0
}
